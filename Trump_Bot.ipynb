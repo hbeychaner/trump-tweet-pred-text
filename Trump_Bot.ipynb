{
 "cells": [
  {
   "cell_type": "markdown",
   "metadata": {
    "colab_type": "text",
    "id": "yY8voaxCfk5J"
   },
   "source": [
    "Here, we're going to explore predictive text methods based on a corpus of Trump tweets. For this, a collections of Trump's 26,560 (as of July 6, 2019) tweets has been downloaded in JSON format. These do not include retweets or extraneous information like favorites or datetimes, so the data is already pretty easy to work with. Let's start by getting our data into a dataframe using pandas."
   ]
  },
  {
   "cell_type": "code",
   "execution_count": 30,
   "metadata": {
    "colab": {},
    "colab_type": "code",
    "id": "gGxMD2CDfk5L"
   },
   "outputs": [],
   "source": [
    "import pandas as pd"
   ]
  },
  {
   "cell_type": "code",
   "execution_count": 31,
   "metadata": {
    "colab": {},
    "colab_type": "code",
    "id": "ocYBpLjafk5O"
   },
   "outputs": [],
   "source": [
    "# File is encoded with utf-8 and is a string, \n",
    "# but pandas can handle this with the .read_json method\n",
    "with open('trumptweets', encoding='utf-8') as f:\n",
    "    df = pd.read_json(f)"
   ]
  },
  {
   "cell_type": "code",
   "execution_count": 32,
   "metadata": {
    "colab": {
     "base_uri": "https://localhost:8080/",
     "height": 195
    },
    "colab_type": "code",
    "id": "u8WFbKV6fk5R",
    "outputId": "d0cb5eea-bd4b-4e72-d6f8-8ef3ccbab986"
   },
   "outputs": [
    {
     "data": {
      "text/html": [
       "<div>\n",
       "<style scoped>\n",
       "    .dataframe tbody tr th:only-of-type {\n",
       "        vertical-align: middle;\n",
       "    }\n",
       "\n",
       "    .dataframe tbody tr th {\n",
       "        vertical-align: top;\n",
       "    }\n",
       "\n",
       "    .dataframe thead th {\n",
       "        text-align: right;\n",
       "    }\n",
       "</style>\n",
       "<table border=\"1\" class=\"dataframe\">\n",
       "  <thead>\n",
       "    <tr style=\"text-align: right;\">\n",
       "      <th></th>\n",
       "      <th>text</th>\n",
       "    </tr>\n",
       "  </thead>\n",
       "  <tbody>\n",
       "    <tr>\n",
       "      <th>0</th>\n",
       "      <td>....As well as we are doing from the day after...</td>\n",
       "    </tr>\n",
       "    <tr>\n",
       "      <th>1</th>\n",
       "      <td>Strong jobs report, low inflation, and other c...</td>\n",
       "    </tr>\n",
       "    <tr>\n",
       "      <th>2</th>\n",
       "      <td>My deepest sympathies go out to the family and...</td>\n",
       "    </tr>\n",
       "    <tr>\n",
       "      <th>3</th>\n",
       "      <td>Happy Birthday to our great United States @Sec...</td>\n",
       "    </tr>\n",
       "    <tr>\n",
       "      <th>4</th>\n",
       "      <td>“Record 157,005,000 Employed; 19th Record of T...</td>\n",
       "    </tr>\n",
       "  </tbody>\n",
       "</table>\n",
       "</div>"
      ],
      "text/plain": [
       "                                                text\n",
       "0  ....As well as we are doing from the day after...\n",
       "1  Strong jobs report, low inflation, and other c...\n",
       "2  My deepest sympathies go out to the family and...\n",
       "3  Happy Birthday to our great United States @Sec...\n",
       "4  “Record 157,005,000 Employed; 19th Record of T..."
      ]
     },
     "execution_count": 32,
     "metadata": {},
     "output_type": "execute_result"
    }
   ],
   "source": [
    "# Check out the df\n",
    "df.head()"
   ]
  },
  {
   "cell_type": "code",
   "execution_count": 33,
   "metadata": {
    "colab": {
     "base_uri": "https://localhost:8080/",
     "height": 34
    },
    "colab_type": "code",
    "id": "3gpTVlpKfk5X",
    "outputId": "9e4e4026-8c35-4a94-c402-74cc3f49caae"
   },
   "outputs": [
    {
     "data": {
      "text/plain": [
       "(26560, 1)"
      ]
     },
     "execution_count": 33,
     "metadata": {},
     "output_type": "execute_result"
    }
   ],
   "source": [
    "df.shape"
   ]
  },
  {
   "cell_type": "code",
   "execution_count": 34,
   "metadata": {
    "colab": {
     "base_uri": "https://localhost:8080/",
     "height": 54
    },
    "colab_type": "code",
    "id": "YIpU5km0fk5a",
    "outputId": "9f9397db-9adc-41b5-9436-93cc9bdb2474"
   },
   "outputs": [
    {
     "data": {
      "text/plain": [
       "'....As well as we are doing from the day after the great Election, when the Market shot right up, it could have been even better - massive additional wealth would have been created, &amp; used very well. Our most difficult problem is not our competitors, it is the Federal Reserve!'"
      ]
     },
     "execution_count": 34,
     "metadata": {},
     "output_type": "execute_result"
    }
   ],
   "source": [
    "df.iloc[0].text"
   ]
  },
  {
   "cell_type": "markdown",
   "metadata": {
    "colab_type": "text",
    "id": "IaD7Kw7_fk5d"
   },
   "source": [
    "Looks good so far. We have all the tweets loaded into our dataframe, and now we're ready to start cleaning up the data. Let's start by tokenizing the text, removing punctuation, and URLs."
   ]
  },
  {
   "cell_type": "code",
   "execution_count": 39,
   "metadata": {
    "colab": {},
    "colab_type": "code",
    "id": "PHUSx8n-fk5e"
   },
   "outputs": [],
   "source": [
    "import spacy\n",
    "nlp = spacy.load('en',disable=['parser', 'tagger','ner'])\n",
    "\n",
    "nlp.max_length = 2125923"
   ]
  },
  {
   "cell_type": "code",
   "execution_count": 36,
   "metadata": {
    "colab": {},
    "colab_type": "code",
    "id": "4lXus8j2fk5g"
   },
   "outputs": [],
   "source": [
    "# Load our ['tweets'] column into a long string format. \n",
    "tweets = ' '.join(df['text'].values.tolist())"
   ]
  },
  {
   "cell_type": "code",
   "execution_count": 37,
   "metadata": {
    "colab": {},
    "colab_type": "code",
    "id": "MSOoPD_ffk5j"
   },
   "outputs": [],
   "source": [
    "# Remove URLs using regular expressions\n",
    "import re\n",
    "tweets = re.sub(r'^https?:\\/\\/.*[\\r\\n]*', '', tweets, flags=re.MULTILINE)"
   ]
  },
  {
   "cell_type": "code",
   "execution_count": 40,
   "metadata": {},
   "outputs": [],
   "source": [
    "# Let's make a list of all the extraneous non-alpha tokens. We'll \n",
    "# use this list to remove those tokens before the learning process\n",
    "removals = []\n",
    "for token in nlp.tokenizer(tweets):\n",
    "    if not token.text.isalpha():\n",
    "        if token.text not in [',', '.', '\\'', ' ','?','!', '\\'s', 'n\\'t']: # Note, this is a very crude way of doing this\n",
    "            removals.append(token.text)\n",
    "removalset = set(removals)\n",
    "\n",
    "# Remove extraneous punctuation. \n",
    "def separate_punc(doc_text):\n",
    "        return [token.text.lower() for token in nlp(doc_text) if token.text not in removalset]\n",
    "\n",
    "tokens = separate_punc(tweets)"
   ]
  },
  {
   "cell_type": "markdown",
   "metadata": {
    "colab_type": "text",
    "id": "Hq61vAxnfk5o"
   },
   "source": [
    "Now that the text has been tokenized (every token has been added to a list), we can vectorize it for input to a neural network later. Once that's complete, we can vectorize each of the tweets and begin computing conditional probabilities."
   ]
  },
  {
   "cell_type": "code",
   "execution_count": 41,
   "metadata": {
    "colab": {
     "base_uri": "https://localhost:8080/",
     "height": 118
    },
    "colab_type": "code",
    "id": "JVVtTtfBfk5p",
    "outputId": "edfcf198-49b7-47e7-b817-5dd9b4e46a39"
   },
   "outputs": [
    {
     "name": "stdout",
     "output_type": "stream",
     "text": [
      "The first 20 tokens: ['as', 'well', 'as', 'we', 'are', 'doing', 'from', 'the', 'day', 'after', 'the', 'great', 'election', ',', 'when', 'the', 'market', 'shot', 'right', 'up']\n",
      "\n",
      "Length of the aggregated tweets: 360035\n",
      "\n",
      "Total number of unique tokens:  13764\n",
      "\n"
     ]
    }
   ],
   "source": [
    "# Let's look at our tokens:\n",
    "print(f\"The first 20 tokens: {tokens[0:20]}\\n\")\n",
    "print(f\"Length of the aggregated tweets: {len(tokens)}\\n\")\n",
    "print(f\"Total number of unique tokens:  {len(set(tokens))}\\n\")"
   ]
  },
  {
   "cell_type": "code",
   "execution_count": 42,
   "metadata": {
    "colab": {},
    "colab_type": "code",
    "id": "CxDOYonofk5s"
   },
   "outputs": [],
   "source": [
    "# Organize into sequences of tokens. This gives us a line of 25 + 1 words;\n",
    "# 25 for context, and then a last word for the  model to predict. In this \n",
    "# way, we have 'labeled' data to train on and validate loss during model training.\n",
    "\n",
    "train_len = 14+1 # 10 training words , then one target word\n",
    "\n",
    "# Empty list of sequences\n",
    "text_sequences = []\n",
    "\n",
    "for i in range(train_len, len(tokens)):\n",
    "    \n",
    "    # Grab train_len (# of tokens)\n",
    "    seq = tokens[i-train_len:i]\n",
    "    \n",
    "    # Add to list of sequences\n",
    "    text_sequences.append(seq)"
   ]
  },
  {
   "cell_type": "code",
   "execution_count": 44,
   "metadata": {
    "colab": {
     "base_uri": "https://localhost:8080/",
     "height": 34
    },
    "colab_type": "code",
    "id": "c1c8LzDefk5u",
    "outputId": "f0bab0d5-04f3-4eac-c76a-e0cc90cded2d"
   },
   "outputs": [],
   "source": [
    "# Now we need to convert these tokens to numeric values\n",
    "# based on a tokenizer, and finally, vectorize them.\n",
    "from keras.preprocessing.text import Tokenizer\n",
    "\n",
    "# integer encode sequences of words\n",
    "tokenizer = Tokenizer()\n",
    "tokenizer.fit_on_texts(text_sequences)\n",
    "sequences = tokenizer.texts_to_sequences(text_sequences)"
   ]
  },
  {
   "cell_type": "code",
   "execution_count": 45,
   "metadata": {
    "colab": {},
    "colab_type": "code",
    "id": "8PauUt3ifk5x"
   },
   "outputs": [],
   "source": [
    "import numpy as np\n",
    "\n",
    "sequences = np.array(sequences)"
   ]
  },
  {
   "cell_type": "code",
   "execution_count": 47,
   "metadata": {},
   "outputs": [
    {
     "data": {
      "text/plain": [
       "['/job:localhost/replica:0/task:0/device:GPU:0']"
      ]
     },
     "execution_count": 47,
     "metadata": {},
     "output_type": "execute_result"
    }
   ],
   "source": [
    "# Check to make sure Keras with tensorflow backend is \n",
    "# using the GPU. You can comment this out if you're \n",
    "# not using CUDA or GPU for TF. \n",
    "from keras import backend as K\n",
    "K.tensorflow_backend._get_available_gpus()"
   ]
  },
  {
   "cell_type": "markdown",
   "metadata": {
    "colab_type": "text",
    "id": "efo4bgm7fk5z"
   },
   "source": [
    "So let's check out what we've done. We've changed every token into its numeric value based on its position in the token list. Numeric IDs are unique to the token they represent. Now comes the memory-intensive stuff. We'll import Keras layers, build an LSTM neural network, and one-hot encode the entirety of our text in a giant sparse matrix that Keras can handle."
   ]
  },
  {
   "cell_type": "code",
   "execution_count": 48,
   "metadata": {
    "colab": {
     "base_uri": "https://localhost:8080/",
     "height": 134
    },
    "colab_type": "code",
    "id": "jcO9JcmWfk5z",
    "outputId": "eec05905-9da0-41c6-b27b-bb3822f6f283"
   },
   "outputs": [
    {
     "data": {
      "text/plain": [
       "array([[  46,  166,   46, ...,  162,    3,   85],\n",
       "       [ 166,   46,   26, ...,    3,   85,    2],\n",
       "       [  46,   26,   21, ...,   85,    2,  385],\n",
       "       ...,\n",
       "       [ 230,    4,   31, ...,  560,   59,    2],\n",
       "       [   4,   31, 5368, ...,   59,    2,   31],\n",
       "       [  31, 5368, 2525, ...,    2,   31,  353]])"
      ]
     },
     "execution_count": 48,
     "metadata": {},
     "output_type": "execute_result"
    }
   ],
   "source": [
    "# Numeric representation of the text!\n",
    "sequences"
   ]
  },
  {
   "cell_type": "code",
   "execution_count": 49,
   "metadata": {
    "colab": {},
    "colab_type": "code",
    "id": "ct53CQCYfk52"
   },
   "outputs": [],
   "source": [
    "import keras\n",
    "from keras.models import Sequential\n",
    "from keras.layers import Dense,LSTM,Embedding\n",
    "\n",
    "def create_model(vocabulary_size, seq_len):\n",
    "    model = Sequential()\n",
    "    model.add(Embedding(vocabulary_size, 25, input_length=seq_len))\n",
    "    model.add(LSTM(150, return_sequences=True))\n",
    "    model.add(LSTM(150))\n",
    "    model.add(Dense(150, activation='relu'))\n",
    "\n",
    "    model.add(Dense(vocabulary_size, activation='softmax'))\n",
    "    \n",
    "    # Normally, we'd train with categorical_crossentropy loss. However, \n",
    "    # the training data is huge. Creating a one-hot encoded matrix for \n",
    "    # all vocabulary would take nearly 40 GB of RAM. Instead, we can use\n",
    "    # sparse_categorical_crossentropy to feed the model integer-value\n",
    "    # labels, without the need to one-hot encode everything. The tradeoff\n",
    "    # of course is that this will slow down training. \n",
    "    \n",
    "    model.compile(loss='sparse_categorical_crossentropy', optimizer='adam', metrics=['accuracy'])\n",
    "   \n",
    "    model.summary()\n",
    "    \n",
    "    return model"
   ]
  },
  {
   "cell_type": "code",
   "execution_count": 50,
   "metadata": {
    "colab": {},
    "colab_type": "code",
    "id": "lsTKp5sdfk58"
   },
   "outputs": [],
   "source": [
    "vocabulary_size = len(set(tokens))\n",
    "X = sequences[:,:-1]\n",
    "y = sequences[:,-1]"
   ]
  },
  {
   "cell_type": "code",
   "execution_count": 53,
   "metadata": {
    "colab": {
     "base_uri": "https://localhost:8080/",
     "height": 302
    },
    "colab_type": "code",
    "id": "re9uf_tffk6A",
    "outputId": "3344bac9-fc76-4e07-fe3d-840651d42553"
   },
   "outputs": [
    {
     "name": "stdout",
     "output_type": "stream",
     "text": [
      "_________________________________________________________________\n",
      "Layer (type)                 Output Shape              Param #   \n",
      "=================================================================\n",
      "embedding_3 (Embedding)      (None, 14, 25)            344125    \n",
      "_________________________________________________________________\n",
      "lstm_5 (LSTM)                (None, 14, 150)           105600    \n",
      "_________________________________________________________________\n",
      "lstm_6 (LSTM)                (None, 150)               180600    \n",
      "_________________________________________________________________\n",
      "dense_5 (Dense)              (None, 150)               22650     \n",
      "_________________________________________________________________\n",
      "dense_6 (Dense)              (None, 13765)             2078515   \n",
      "=================================================================\n",
      "Total params: 2,731,490\n",
      "Trainable params: 2,731,490\n",
      "Non-trainable params: 0\n",
      "_________________________________________________________________\n"
     ]
    }
   ],
   "source": [
    "seq_len = 14\n",
    "model = create_model(vocabulary_size+1, seq_len)"
   ]
  },
  {
   "cell_type": "code",
   "execution_count": null,
   "metadata": {
    "colab": {
     "base_uri": "https://localhost:8080/",
     "height": 354
    },
    "colab_type": "code",
    "id": "MTrhlIvJfk6D",
    "outputId": "538f3cc4-a710-4c65-9fcb-6d145fac7661"
   },
   "outputs": [],
   "source": [
    "# Fit the model \n",
    "\n",
    "model.fit(X, y, batch_size=1024, epochs=1100,verbose=2)"
   ]
  },
  {
   "cell_type": "code",
   "execution_count": 74,
   "metadata": {},
   "outputs": [
    {
     "data": {
      "image/png": "[encoded data removed]",
      "text/plain": [
       "<Figure size 432x288 with 1 Axes>"
      ]
     },
     "metadata": {
      "needs_background": "light"
     },
     "output_type": "display_data"
    },
    {
     "data": {
      "image/png": "[encoded data removed]",
      "text/plain": [
       "<Figure size 432x288 with 1 Axes>"
      ]
     },
     "metadata": {
      "needs_background": "light"
     },
     "output_type": "display_data"
    }
   ],
   "source": [
    "import matplotlib.pyplot as plt\n",
    "\n",
    "# Plot training & validation accuracy values\n",
    "plt.plot(model.history.history['acc'])\n",
    "plt.title('Model accuracy')\n",
    "plt.ylabel('Accuracy')\n",
    "plt.xlabel('Epoch')\n",
    "plt.legend(['Train', 'Test'], loc='upper left')\n",
    "plt.savefig('acc.png', bbox_inches='tight')\n",
    "plt.show()\n",
    "\n",
    "# Plot training & validation loss values\n",
    "plt.plot(model.history.history['loss'])\n",
    "plt.title('Model loss')\n",
    "plt.ylabel('Loss')\n",
    "plt.xlabel('Epoch')\n",
    "plt.legend(['Train'], loc='upper left')\n",
    "plt.savefig('loss.png', bbox_inches='tight')\n",
    "\n",
    "plt.show()"
   ]
  },
  {
   "cell_type": "markdown",
   "metadata": {},
   "source": [
    "It looks like our model isn't going to get much better without additional preprocessing or tweaks to the density or depth of our network. Let's see what it does when we give it text to predict."
   ]
  },
  {
   "cell_type": "code",
   "execution_count": 55,
   "metadata": {
    "colab": {},
    "colab_type": "code",
    "id": "3JSNgyTAfk6G"
   },
   "outputs": [],
   "source": [
    "# Save the model for later\n",
    "from pickle import dump,load\n",
    "\n",
    "model.save('trained_model.h5')\n",
    "dump(tokenizer, open('trained_model', 'wb'))"
   ]
  },
  {
   "cell_type": "code",
   "execution_count": null,
   "metadata": {},
   "outputs": [],
   "source": [
    "# Uncomment this cell if you want to load the previously trained model\n",
    "\n",
    "#model=load_model('trained_model.h5')\n",
    "#tokenizer=load(open('trained_model','rb'))"
   ]
  },
  {
   "cell_type": "code",
   "execution_count": 59,
   "metadata": {
    "colab": {},
    "colab_type": "code",
    "id": "VgUkYAhafk6L"
   },
   "outputs": [],
   "source": [
    "# Now that we have our model trained, we'd like to start making predictive text.\n",
    "\n",
    "from pickle import load\n",
    "from keras.models import load_model\n",
    "from keras.preprocessing.sequence import pad_sequences"
   ]
  },
  {
   "cell_type": "code",
   "execution_count": 69,
   "metadata": {
    "colab": {},
    "colab_type": "code",
    "id": "x7VY79SRfk6O"
   },
   "outputs": [],
   "source": [
    "def generate_text(model, tokenizer, seq_len, seed_text, num_gen_words):\n",
    "    '''\n",
    "    INPUTS:\n",
    "    model : model that was trained on text data\n",
    "    tokenizer : tokenizer that was fit on text data\n",
    "    seq_len : length of training sequence\n",
    "    seed_text : raw string text to serve as the seed\n",
    "    num_gen_words : number of words to be generated by model\n",
    "    '''\n",
    "    \n",
    "    # Final Output\n",
    "    output_text = []\n",
    "    \n",
    "    # Intial Seed Sequence\n",
    "    input_text = seed_text\n",
    "    \n",
    "    # Create num_gen_words\n",
    "    for i in range(num_gen_words):\n",
    "        \n",
    "        # Take the input text string and encode it to a sequence\n",
    "        encoded_text = tokenizer.texts_to_sequences([input_text])[0]\n",
    "        \n",
    "        # Pad sequences to our trained rate (50 words in the video)\n",
    "        pad_encoded = pad_sequences([encoded_text], maxlen=seq_len, truncating='pre')\n",
    "        \n",
    "        # Predict Class Probabilities for each word\n",
    "        pred_word_ind = model.predict_classes(pad_encoded, verbose=0)[0]\n",
    "        \n",
    "        # Grab word\n",
    "        pred_word = tokenizer.index_word[pred_word_ind] \n",
    "        \n",
    "        # Update the sequence of input text (shifting one over with the new word)\n",
    "        input_text += ' ' + pred_word\n",
    "        \n",
    "        output_text.append(pred_word)\n",
    "        \n",
    "    # Make it look like a sentence.\n",
    "    return ' '.join(output_text)"
   ]
  },
  {
   "cell_type": "code",
   "execution_count": 75,
   "metadata": {
    "colab": {},
    "colab_type": "code",
    "id": "JY-GDqU_fk6Q"
   },
   "outputs": [
    {
     "data": {
      "text/plain": [
       "\"also has n't have a corrupt dollar told by billion dollars worth of bin laden\""
      ]
     },
     "execution_count": 75,
     "metadata": {},
     "output_type": "execute_result"
    }
   ],
   "source": [
    "# Type whatever you want as seed text.\n",
    "seed_text=\"I\"\n",
    "\n",
    "generate_text(model,tokenizer,seq_len,seed_text=seed_text,num_gen_words=15)"
   ]
  },
  {
   "cell_type": "markdown",
   "metadata": {},
   "source": [
    "Well.... okay. Clearly we could use some more help, but there you have it!"
   ]
  }
 ],
 "metadata": {
  "colab": {
   "name": "Trump Bot.ipynb",
   "provenance": [],
   "version": "0.3.2"
  },
  "kernelspec": {
   "display_name": "Python 3",
   "language": "python",
   "name": "python3"
  },
  "language_info": {
   "codemirror_mode": {
    "name": "ipython",
    "version": 3
   },
   "file_extension": ".py",
   "mimetype": "text/x-python",
   "name": "python",
   "nbconvert_exporter": "python",
   "pygments_lexer": "ipython3",
   "version": "3.7.3"
  }
 },
 "nbformat": 4,
 "nbformat_minor": 1
}
