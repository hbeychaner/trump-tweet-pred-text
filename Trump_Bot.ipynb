{
 "cells": [
  {
   "cell_type": "markdown",
   "metadata": {
    "colab_type": "text",
    "id": "yY8voaxCfk5J"
   },
   "source": [
    "Here, we're going to explore predictive text methods based on a corpus of Trump tweets. For this, a collections of Trump's 26,560 (as of July 6, 2019) tweets has been downloaded in JSON format. These do not include retweets or extraneous information like favorites or datetimes, so the data is already pretty easy to work with. Let's start by getting our data into a dataframe using pandas."
   ]
  },
  {
   "cell_type": "code",
   "execution_count": 1,
   "metadata": {
    "colab": {},
    "colab_type": "code",
    "id": "gGxMD2CDfk5L"
   },
   "outputs": [],
   "source": [
    "import pandas as pd"
   ]
  },
  {
   "cell_type": "code",
   "execution_count": 2,
   "metadata": {
    "colab": {},
    "colab_type": "code",
    "id": "ocYBpLjafk5O"
   },
   "outputs": [],
   "source": [
    "# File is encoded with utf-8 and is a string, \n",
    "# but pandas can handle this with the .read_json method\n",
    "with open('trumptweets', encoding='utf-8') as f:\n",
    "    df = pd.read_json(f)"
    "# NOTE! If running this notebook in Google Colab, comment out"
    "# the above 'with open()' and use the one below instead to avoid errors:"
    "# with open('trumptweets', encoding="utf-8")"
    "#     df = pd.read_json(f)"
   ]
  },
  {
   "cell_type": "code",
   "execution_count": 3,
   "metadata": {
    "colab": {
     "base_uri": "https://localhost:8080/",
     "height": 195
    },
    "colab_type": "code",
    "id": "u8WFbKV6fk5R",
    "outputId": "d0cb5eea-bd4b-4e72-d6f8-8ef3ccbab986"
   },
   "outputs": [
    {
     "data": {
      "text/html": [
       "<div>\n",
       "<style scoped>\n",
       "    .dataframe tbody tr th:only-of-type {\n",
       "        vertical-align: middle;\n",
       "    }\n",
       "\n",
       "    .dataframe tbody tr th {\n",
       "        vertical-align: top;\n",
       "    }\n",
       "\n",
       "    .dataframe thead th {\n",
       "        text-align: right;\n",
       "    }\n",
       "</style>\n",
       "<table border=\"1\" class=\"dataframe\">\n",
       "  <thead>\n",
       "    <tr style=\"text-align: right;\">\n",
       "      <th></th>\n",
       "      <th>text</th>\n",
       "    </tr>\n",
       "  </thead>\n",
       "  <tbody>\n",
       "    <tr>\n",
       "      <th>0</th>\n",
       "      <td>....As well as we are doing from the day after...</td>\n",
       "    </tr>\n",
       "    <tr>\n",
       "      <th>1</th>\n",
       "      <td>Strong jobs report, low inflation, and other c...</td>\n",
       "    </tr>\n",
       "    <tr>\n",
       "      <th>2</th>\n",
       "      <td>My deepest sympathies go out to the family and...</td>\n",
       "    </tr>\n",
       "    <tr>\n",
       "      <th>3</th>\n",
       "      <td>Happy Birthday to our great United States @Sec...</td>\n",
       "    </tr>\n",
       "    <tr>\n",
       "      <th>4</th>\n",
       "      <td>“Record 157,005,000 Employed; 19th Record of T...</td>\n",
       "    </tr>\n",
       "  </tbody>\n",
       "</table>\n",
       "</div>"
      ],
      "text/plain": [
       "                                                text\n",
       "0  ....As well as we are doing from the day after...\n",
       "1  Strong jobs report, low inflation, and other c...\n",
       "2  My deepest sympathies go out to the family and...\n",
       "3  Happy Birthday to our great United States @Sec...\n",
       "4  “Record 157,005,000 Employed; 19th Record of T..."
      ]
     },
     "execution_count": 3,
     "metadata": {},
     "output_type": "execute_result"
    }
   ],
   "source": [
    "# Check out the df\n",
    "df.head()"
   ]
  },
  {
   "cell_type": "code",
   "execution_count": 4,
   "metadata": {
    "colab": {
     "base_uri": "https://localhost:8080/",
     "height": 34
    },
    "colab_type": "code",
    "id": "3gpTVlpKfk5X",
    "outputId": "9e4e4026-8c35-4a94-c402-74cc3f49caae"
   },
   "outputs": [
    {
     "data": {
      "text/plain": [
       "(26560, 1)"
      ]
     },
     "execution_count": 4,
     "metadata": {},
     "output_type": "execute_result"
    }
   ],
   "source": [
    "df.shape"
   ]
  },
  {
   "cell_type": "code",
   "execution_count": 5,
   "metadata": {
    "colab": {
     "base_uri": "https://localhost:8080/",
     "height": 54
    },
    "colab_type": "code",
    "id": "YIpU5km0fk5a",
    "outputId": "9f9397db-9adc-41b5-9436-93cc9bdb2474"
   },
   "outputs": [
    {
     "data": {
      "text/plain": [
       "'....As well as we are doing from the day after the great Election, when the Market shot right up, it could have been even better - massive additional wealth would have been created, &amp; used very well. Our most difficult problem is not our competitors, it is the Federal Reserve!'"
      ]
     },
     "execution_count": 5,
     "metadata": {},
     "output_type": "execute_result"
    }
   ],
   "source": [
    "df.iloc[0].text"
   ]
  },
  {
   "cell_type": "markdown",
   "metadata": {
    "colab_type": "text",
    "id": "IaD7Kw7_fk5d"
   },
   "source": [
    "Looks good so far. We have all the tweets loaded into our dataframe, and now we're ready to start cleaning up the data. Let's start by tokenizing the text, removing punctuation, and URLs."
   ]
  },
  {
   "cell_type": "code",
   "execution_count": 6,
   "metadata": {
    "colab": {},
    "colab_type": "code",
    "id": "PHUSx8n-fk5e"
   },
   "outputs": [],
   "source": [
    "import spacy\n",
    "nlp = spacy.load('en',disable=['parser', 'tagger','ner'])\n",
    "\n",
    "nlp.max_length = 3000000"
   ]
  },
  {
   "cell_type": "code",
   "execution_count": 7,
   "metadata": {
    "colab": {},
    "colab_type": "code",
    "id": "4lXus8j2fk5g"
   },
   "outputs": [],
   "source": [
    "# Load our ['tweets'] column into a long string format. \n",
    "tweets = ' '.join(df['text'].values.tolist())"
   ]
  },
  {
   "cell_type": "code",
   "execution_count": 8,
   "metadata": {
    "colab": {},
    "colab_type": "code",
    "id": "MSOoPD_ffk5j"
   },
   "outputs": [],
   "source": [
    "# Remove URLs using regular expressions\n",
    "import re\n",
    "tweets = re.sub(r'^https?:\\/\\/.*[\\r\\n]*', '', tweets, flags=re.MULTILINE)"
   ]
  },
  {
   "cell_type": "code",
   "execution_count": 9,
   "metadata": {
    "colab": {},
    "colab_type": "code",
    "id": "LfvqTTRsfk5l"
   },
   "outputs": [],
   "source": [
    "# Remove extraneous punctuation. I've chosen to keep periods, elipses,\n",
    "# and commas because they're part of Trump's style.\n",
    "def separate_punc(doc_text):\n",
    "        return [token.text.lower() for token in nlp(doc_text) if token.text not in '-$%*+-/:;<>[\\\\]^_`{|}~\\t\\n']\n",
    "tokens = separate_punc(tweets)"
   ]
  },
  {
   "cell_type": "markdown",
   "metadata": {
    "colab_type": "text",
    "id": "Hq61vAxnfk5o"
   },
   "source": [
    "Now that the text has been tokenized (every token has been added to a list), we can vectorize it for input to a neural network later. Once that's complete, we can vectorize each of the tweets and begin computing conditional probabilities."
   ]
  },
  {
   "cell_type": "code",
   "execution_count": 10,
   "metadata": {
    "colab": {
     "base_uri": "https://localhost:8080/",
     "height": 118
    },
    "colab_type": "code",
    "id": "JVVtTtfBfk5p",
    "outputId": "edfcf198-49b7-47e7-b817-5dd9b4e46a39"
   },
   "outputs": [
    {
     "name": "stdout",
     "output_type": "stream",
     "text": [
      "The first 20 tokens: ['....', 'as', 'well', 'as', 'we', 'are', 'doing', 'from', 'the', 'day', 'after', 'the', 'great', 'election', ',', 'when', 'the', 'market', 'shot', 'right']\n",
      "\n",
      "Length of the aggregated tweets: 401916\n",
      "\n",
      "Total number of unique tokens:  24816\n",
      "\n"
     ]
    }
   ],
   "source": [
    "# Let's look at our tokens:\n",
    "print(f\"The first 20 tokens: {tokens[0:20]}\\n\")\n",
    "print(f\"Length of the aggregated tweets: {len(tokens)}\\n\")\n",
    "print(f\"Total number of unique tokens:  {len(set(tokens))}\\n\")"
   ]
  },
  {
   "cell_type": "code",
   "execution_count": 11,
   "metadata": {
    "colab": {},
    "colab_type": "code",
    "id": "CxDOYonofk5s"
   },
   "outputs": [],
   "source": [
    "# Organize into sequences of tokens. This gives us a line of 25 + 1 words;\n",
    "# 25 for context, and then a last word for the  model to predict. In this \n",
    "# way, we have 'labeled' data to train on and validate loss during model training.\n",
    "\n",
    "train_len = 25+1 # 50 training words , then one target word\n",
    "\n",
    "# Empty list of sequences\n",
    "text_sequences = []\n",
    "\n",
    "for i in range(train_len, len(tokens)):\n",
    "    \n",
    "    # Grab train_len# amount of characters\n",
    "    seq = tokens[i-train_len:i]\n",
    "    \n",
    "    # Add to list of sequences\n",
    "    text_sequences.append(seq)"
   ]
  },
  {
   "cell_type": "code",
   "execution_count": 12,
   "metadata": {
    "colab": {
     "base_uri": "https://localhost:8080/",
     "height": 34
    },
    "colab_type": "code",
    "id": "c1c8LzDefk5u",
    "outputId": "f0bab0d5-04f3-4eac-c76a-e0cc90cded2d"
   },
   "outputs": [
    {
     "name": "stderr",
     "output_type": "stream",
     "text": [
      "Using TensorFlow backend.\n"
     ]
    }
   ],
   "source": [
    "# Now we need to convert these tokens to numeric values\n",
    "# based on a tokenizer, and finally, vectorize them.\n",
    "from keras.preprocessing.text import Tokenizer\n",
    "\n",
    "# integer encode sequences of words\n",
    "tokenizer = Tokenizer()\n",
    "tokenizer.fit_on_texts(text_sequences)\n",
    "sequences = tokenizer.texts_to_sequences(text_sequences)"
   ]
  },
  {
   "cell_type": "code",
   "execution_count": 13,
   "metadata": {
    "colab": {},
    "colab_type": "code",
    "id": "8PauUt3ifk5x"
   },
   "outputs": [],
   "source": [
    "import numpy as np\n",
    "\n",
    "sequences = np.array(sequences)"
   ]
  },
  {
   "cell_type": "code",
   "execution_count": 14,
   "metadata": {},
   "outputs": [],
   "source": [
    "# Check to make sure Keras with tensorflow backend is \n",
    "# using the GPU. You can comment this out if you're \n",
    "# not using CUDA or GPU for TF. \n",
    "# from keras import backend as K\n",
    "# K.tensorflow_backend._get_available_gpus()"
   ]
  },
  {
   "cell_type": "markdown",
   "metadata": {
    "colab_type": "text",
    "id": "efo4bgm7fk5z"
   },
   "source": [
    "So let's check out what we've done. We've changed every token into its numeric value based on its position in the token list. Numeric IDs are unique to the token they represent. Now comes the memory-intensive stuff. We'll import Keras layers, build an LSTM neural network, and one-hot encode the entirety of our text in a giant sparse matrix that Keras can handle."
   ]
  },
  {
   "cell_type": "code",
   "execution_count": 15,
   "metadata": {
    "colab": {
     "base_uri": "https://localhost:8080/",
     "height": 134
    },
    "colab_type": "code",
    "id": "jcO9JcmWfk5z",
    "outputId": "eec05905-9da0-41c6-b27b-bb3822f6f283"
   },
   "outputs": [
    {
     "data": {
      "text/plain": [
       "array([[ 117,   55,  185, ...,  216,   30,   99],\n",
       "       [  55,  185,   55, ...,   30,   99,  122],\n",
       "       [ 185,   55,   29, ...,   99,  122,  177],\n",
       "       ...,\n",
       "       [ 444,  480,    1, ...,   68,    2,   34],\n",
       "       [ 480,    1,   15, ...,    2,   34,  385],\n",
       "       [   1,   15,  423, ...,   34,  385, 1220]])"
      ]
     },
     "execution_count": 15,
     "metadata": {},
     "output_type": "execute_result"
    }
   ],
   "source": [
    "# Numeric representation of the text!\n",
    "sequences"
   ]
  },
  {
   "cell_type": "code",
   "execution_count": 16,
   "metadata": {
    "colab": {},
    "colab_type": "code",
    "id": "ct53CQCYfk52"
   },
   "outputs": [],
   "source": [
    "import keras\n",
    "from keras.models import Sequential\n",
    "from keras.layers import Dense,LSTM,Embedding\n",
    "\n",
    "def create_model(vocabulary_size, seq_len):\n",
    "    model = Sequential()\n",
    "    model.add(Embedding(vocabulary_size, 25, input_length=seq_len))\n",
    "    model.add(LSTM(150, return_sequences=True))\n",
    "    model.add(LSTM(150))\n",
    "    model.add(Dense(150, activation='relu'))\n",
    "\n",
    "    model.add(Dense(vocabulary_size, activation='softmax'))\n",
    "    \n",
    "    # Normally, we'd train with categorical_crossentropy loss. However, \n",
    "    # the training data is huge. Creating a one-hot encoded matrix for \n",
    "    # all vocabulary would take nearly 40 GB of RAM. Instead, we can use\n",
    "    # sparse_categorical_crossentropy to feed the model integer-value\n",
    "    # labels, without the need to one-hot encode all training labels.\n",
    "    model.compile(loss='sparse_categorical_crossentropy', optimizer='adam', metrics=['accuracy'])\n",
    "   \n",
    "    model.summary()\n",
    "    \n",
    "    return model"
   ]
  },
  {
   "cell_type": "code",
   "execution_count": 17,
   "metadata": {
    "colab": {},
    "colab_type": "code",
    "id": "lsTKp5sdfk58"
   },
   "outputs": [],
   "source": [
    "vocabulary_size = len(set(tokens))\n",
    "X = sequences[:,:-1]\n",
    "y = sequences[:,-1]"
   ]
  },
  {
   "cell_type": "code",
   "execution_count": 18,
   "metadata": {
    "colab": {
     "base_uri": "https://localhost:8080/",
     "height": 302
    },
    "colab_type": "code",
    "id": "re9uf_tffk6A",
    "outputId": "3344bac9-fc76-4e07-fe3d-840651d42553"
   },
   "outputs": [
    {
     "name": "stdout",
     "output_type": "stream",
     "text": [
      "WARNING:tensorflow:From C:\\Users\\hbeyc\\Anaconda3\\envs\\nlp_course\\lib\\site-packages\\tensorflow\\python\\framework\\op_def_library.py:263: colocate_with (from tensorflow.python.framework.ops) is deprecated and will be removed in a future version.\n",
      "Instructions for updating:\n",
      "Colocations handled automatically by placer.\n",
      "_________________________________________________________________\n",
      "Layer (type)                 Output Shape              Param #   \n",
      "=================================================================\n",
      "embedding_1 (Embedding)      (None, 25, 25)            620425    \n",
      "_________________________________________________________________\n",
      "lstm_1 (LSTM)                (None, 25, 150)           105600    \n",
      "_________________________________________________________________\n",
      "lstm_2 (LSTM)                (None, 150)               180600    \n",
      "_________________________________________________________________\n",
      "dense_1 (Dense)              (None, 150)               22650     \n",
      "_________________________________________________________________\n",
      "dense_2 (Dense)              (None, 24817)             3747367   \n",
      "=================================================================\n",
      "Total params: 4,676,642\n",
      "Trainable params: 4,676,642\n",
      "Non-trainable params: 0\n",
      "_________________________________________________________________\n"
     ]
    }
   ],
   "source": [
    "# Create the model \n",
    "\n",
    "seq_len = 25\n",
    "model = create_model(vocabulary_size+1, seq_len)"
   ]
  },
  {
   "cell_type": "code",
   "execution_count": null,
   "metadata": {
    "colab": {
     "base_uri": "https://localhost:8080/",
     "height": 354
    },
    "colab_type": "code",
    "id": "MTrhlIvJfk6D",
    "outputId": "538f3cc4-a710-4c65-9fcb-6d145fac7661"
   },
   "outputs": [
    {
     "name": "stdout",
     "output_type": "stream",
     "text": [
      "Epoch 1/1200\n",
      " - 134s - loss: 6.9520 - acc: 0.0419\n",
      "Epoch 2/1200\n",
      " - 130s - loss: 6.9370 - acc: 0.0419\n",
      "Epoch 3/1200\n",
      " - 130s - loss: 6.9302 - acc: 0.0419\n",
      "Epoch 4/1200\n",
      " - 129s - loss: 6.9269 - acc: 0.0419\n",
      "Epoch 5/1200\n",
      " - 131s - loss: 6.9249 - acc: 0.0419\n",
      "Epoch 6/1200\n",
      " - 130s - loss: 6.9238 - acc: 0.0419\n",
      "Epoch 7/1200\n",
      " - 133s - loss: 6.9233 - acc: 0.0419\n",
      "Epoch 8/1200\n",
      " - 139s - loss: 6.9228 - acc: 0.0419\n",
      "Epoch 9/1200\n",
      " - 131s - loss: 6.9224 - acc: 0.0419\n",
      "Epoch 10/1200\n",
      " - 132s - loss: 6.9228 - acc: 0.0419\n",
      "Epoch 11/1200\n",
      " - 131s - loss: 6.9227 - acc: 0.0419\n",
      "Epoch 12/1200\n",
      " - 133s - loss: 6.9222 - acc: 0.0419\n",
      "Epoch 13/1200\n",
      " - 132s - loss: 6.9222 - acc: 0.0419\n",
      "Epoch 14/1200\n",
      " - 132s - loss: 6.9223 - acc: 0.0419\n",
      "Epoch 15/1200\n",
      " - 131s - loss: 6.9225 - acc: 0.0419\n",
      "Epoch 16/1200\n",
      " - 131s - loss: 6.9223 - acc: 0.0419\n",
      "Epoch 17/1200\n",
      " - 130s - loss: 6.9221 - acc: 0.0419\n",
      "Epoch 18/1200\n",
      " - 130s - loss: 6.9224 - acc: 0.0419\n",
      "Epoch 19/1200\n",
      " - 130s - loss: 6.9220 - acc: 0.0419\n",
      "Epoch 20/1200\n",
      " - 130s - loss: 6.9220 - acc: 0.0419\n",
      "Epoch 21/1200\n",
      " - 130s - loss: 6.9220 - acc: 0.0419\n",
      "Epoch 22/1200\n",
      " - 131s - loss: 6.9220 - acc: 0.0419\n",
      "Epoch 23/1200\n",
      " - 131s - loss: 6.9221 - acc: 0.0419\n",
      "Epoch 24/1200\n",
      " - 130s - loss: 6.9217 - acc: 0.0419\n",
      "Epoch 25/1200\n",
      " - 130s - loss: 6.9217 - acc: 0.0419\n",
      "Epoch 26/1200\n",
      " - 130s - loss: 6.9215 - acc: 0.0419\n",
      "Epoch 27/1200\n",
      " - 131s - loss: 6.9218 - acc: 0.0419\n",
      "Epoch 28/1200\n",
      " - 130s - loss: 6.9217 - acc: 0.0419\n",
      "Epoch 29/1200\n",
      " - 7112s - loss: 6.9216 - acc: 0.0419\n",
      "Epoch 30/1200\n",
      " - 135s - loss: 6.9214 - acc: 0.0419\n",
      "Epoch 31/1200\n",
      " - 135s - loss: 6.9214 - acc: 0.0419\n",
      "Epoch 32/1200\n",
      " - 136s - loss: 6.9215 - acc: 0.0419\n",
      "Epoch 33/1200\n",
      " - 136s - loss: 6.9214 - acc: 0.0419\n",
      "Epoch 34/1200\n",
      " - 132s - loss: 6.9212 - acc: 0.0419\n",
      "Epoch 35/1200\n",
      " - 130s - loss: 6.9212 - acc: 0.0419\n",
      "Epoch 36/1200\n",
      " - 139s - loss: 6.9211 - acc: 0.0419\n",
      "Epoch 37/1200\n",
      " - 139s - loss: 6.9211 - acc: 0.0419\n",
      "Epoch 38/1200\n",
      " - 137s - loss: 6.9210 - acc: 0.0419\n",
      "Epoch 39/1200\n",
      " - 137s - loss: 6.9210 - acc: 0.0419\n",
      "Epoch 40/1200\n",
      " - 132s - loss: 6.9208 - acc: 0.0419\n",
      "Epoch 41/1200\n",
      " - 136s - loss: 6.9208 - acc: 0.0419\n",
      "Epoch 42/1200\n",
      " - 139s - loss: 6.9209 - acc: 0.0419\n",
      "Epoch 43/1200\n",
      " - 137s - loss: 6.9209 - acc: 0.0419\n",
      "Epoch 44/1200\n",
      " - 138s - loss: 6.9205 - acc: 0.0419\n",
      "Epoch 45/1200\n",
      " - 134s - loss: 6.9207 - acc: 0.0419\n",
      "Epoch 46/1200\n",
      " - 129s - loss: 6.9208 - acc: 0.0419\n",
      "Epoch 47/1200\n",
      " - 129s - loss: 6.9209 - acc: 0.0419\n",
      "Epoch 48/1200\n",
      " - 129s - loss: 6.9208 - acc: 0.0419\n",
      "Epoch 49/1200\n",
      " - 129s - loss: 6.9206 - acc: 0.0419\n",
      "Epoch 50/1200\n",
      " - 130s - loss: 6.9206 - acc: 0.0419\n",
      "Epoch 51/1200\n",
      " - 130s - loss: 6.9205 - acc: 0.0419\n",
      "Epoch 52/1200\n",
      " - 129s - loss: 6.9205 - acc: 0.0419\n",
      "Epoch 53/1200\n",
      " - 129s - loss: 6.9205 - acc: 0.0419\n",
      "Epoch 54/1200\n",
      " - 130s - loss: 6.9205 - acc: 0.0419\n",
      "Epoch 55/1200\n",
      " - 130s - loss: 6.9206 - acc: 0.0419\n",
      "Epoch 56/1200\n",
      " - 130s - loss: 6.9204 - acc: 0.0419\n",
      "Epoch 57/1200\n",
      " - 130s - loss: 6.9206 - acc: 0.0419\n",
      "Epoch 58/1200\n",
      " - 133s - loss: 6.9202 - acc: 0.0419\n",
      "Epoch 59/1200\n",
      " - 130s - loss: 6.9202 - acc: 0.0419\n",
      "Epoch 60/1200\n",
      " - 130s - loss: 6.9201 - acc: 0.0419\n",
      "Epoch 61/1200\n",
      " - 131s - loss: 6.9199 - acc: 0.0419\n",
      "Epoch 62/1200\n",
      " - 130s - loss: 6.9197 - acc: 0.0419\n",
      "Epoch 63/1200\n",
      " - 130s - loss: 6.9202 - acc: 0.0419\n",
      "Epoch 64/1200\n",
      " - 133s - loss: 6.9199 - acc: 0.0419\n",
      "Epoch 65/1200\n",
      " - 140s - loss: 6.9201 - acc: 0.0419\n",
      "Epoch 66/1200\n",
      " - 140s - loss: 6.9200 - acc: 0.0419\n",
      "Epoch 67/1200\n",
      " - 140s - loss: 6.9198 - acc: 0.0419\n",
      "Epoch 68/1200\n",
      " - 139s - loss: 6.9197 - acc: 0.0419\n",
      "Epoch 69/1200\n",
      " - 139s - loss: 6.9198 - acc: 0.0419\n",
      "Epoch 70/1200\n",
      " - 139s - loss: 6.9197 - acc: 0.0419\n",
      "Epoch 71/1200\n",
      " - 140s - loss: 6.9199 - acc: 0.0419\n",
      "Epoch 72/1200\n",
      " - 139s - loss: 6.9197 - acc: 0.0419\n",
      "Epoch 73/1200\n",
      " - 139s - loss: 6.9197 - acc: 0.0419\n",
      "Epoch 74/1200\n",
      " - 140s - loss: 6.9199 - acc: 0.0419\n",
      "Epoch 75/1200\n",
      " - 139s - loss: 6.9196 - acc: 0.0419\n",
      "Epoch 76/1200\n",
      " - 140s - loss: 6.9196 - acc: 0.0419\n",
      "Epoch 77/1200\n",
      " - 139s - loss: 6.9197 - acc: 0.0419\n",
      "Epoch 78/1200\n",
      " - 139s - loss: 6.9194 - acc: 0.0419\n",
      "Epoch 79/1200\n",
      " - 140s - loss: 6.9198 - acc: 0.0419\n",
      "Epoch 80/1200\n",
      " - 140s - loss: 6.9196 - acc: 0.0419\n",
      "Epoch 81/1200\n",
      " - 133s - loss: 6.9192 - acc: 0.0419\n",
      "Epoch 82/1200\n",
      " - 131s - loss: 6.9194 - acc: 0.0419\n",
      "Epoch 83/1200\n",
      " - 130s - loss: 6.9196 - acc: 0.0419\n",
      "Epoch 84/1200\n",
      " - 131s - loss: 6.9194 - acc: 0.0419\n",
      "Epoch 85/1200\n",
      " - 131s - loss: 6.9193 - acc: 0.0419\n",
      "Epoch 86/1200\n",
      " - 130s - loss: 6.9195 - acc: 0.0419\n",
      "Epoch 87/1200\n",
      " - 130s - loss: 6.9192 - acc: 0.0419\n",
      "Epoch 88/1200\n",
      " - 130s - loss: 6.9191 - acc: 0.0419\n",
      "Epoch 89/1200\n",
      " - 130s - loss: 6.9193 - acc: 0.0419\n",
      "Epoch 90/1200\n",
      " - 130s - loss: 6.9193 - acc: 0.0419\n",
      "Epoch 91/1200\n",
      " - 131s - loss: 6.9193 - acc: 0.0419\n",
      "Epoch 92/1200\n",
      " - 130s - loss: 6.9193 - acc: 0.0419\n",
      "Epoch 93/1200\n",
      " - 130s - loss: 6.9194 - acc: 0.0419\n",
      "Epoch 94/1200\n",
      " - 130s - loss: 6.9191 - acc: 0.0419\n",
      "Epoch 95/1200\n",
      " - 130s - loss: 6.9193 - acc: 0.0419\n",
      "Epoch 96/1200\n",
      " - 136s - loss: 6.9192 - acc: 0.0419\n",
      "Epoch 97/1200\n",
      " - 140s - loss: 6.9191 - acc: 0.0419\n",
      "Epoch 98/1200\n",
      " - 140s - loss: 6.9192 - acc: 0.0419\n",
      "Epoch 99/1200\n",
      " - 140s - loss: 6.9192 - acc: 0.0419\n",
      "Epoch 100/1200\n",
      " - 133s - loss: 6.9190 - acc: 0.0419\n",
      "Epoch 101/1200\n",
      " - 131s - loss: 6.9191 - acc: 0.0419\n",
      "Epoch 102/1200\n",
      " - 129s - loss: 6.9191 - acc: 0.0419\n",
      "Epoch 103/1200\n",
      " - 130s - loss: 6.9192 - acc: 0.0419\n",
      "Epoch 104/1200\n",
      " - 130s - loss: 6.9192 - acc: 0.0419\n",
      "Epoch 105/1200\n",
      " - 130s - loss: 6.9192 - acc: 0.0419\n",
      "Epoch 106/1200\n",
      " - 131s - loss: 6.9187 - acc: 0.0419\n",
      "Epoch 107/1200\n",
      " - 130s - loss: 6.9193 - acc: 0.0419\n",
      "Epoch 108/1200\n",
      " - 131s - loss: 6.9189 - acc: 0.0419\n",
      "Epoch 109/1200\n",
      " - 130s - loss: 6.9191 - acc: 0.0419\n",
      "Epoch 110/1200\n",
      " - 130s - loss: 6.9188 - acc: 0.0419\n",
      "Epoch 111/1200\n",
      " - 130s - loss: 6.9188 - acc: 0.0419\n",
      "Epoch 112/1200\n",
      " - 130s - loss: 6.9189 - acc: 0.0419\n",
      "Epoch 113/1200\n",
      " - 130s - loss: 6.9189 - acc: 0.0419\n",
      "Epoch 114/1200\n",
      " - 130s - loss: 6.9189 - acc: 0.0419\n",
      "Epoch 115/1200\n",
      " - 130s - loss: 6.9192 - acc: 0.0419\n",
      "Epoch 116/1200\n",
      " - 130s - loss: 6.9186 - acc: 0.0419\n",
      "Epoch 117/1200\n",
      " - 131s - loss: 6.9188 - acc: 0.0419\n",
      "Epoch 118/1200\n",
      " - 131s - loss: 6.9188 - acc: 0.0419\n",
      "Epoch 119/1200\n",
      " - 132s - loss: 6.9186 - acc: 0.0419\n",
      "Epoch 120/1200\n",
      " - 129s - loss: 6.9188 - acc: 0.0419\n",
      "Epoch 121/1200\n",
      " - 130s - loss: 6.9188 - acc: 0.0419\n",
      "Epoch 122/1200\n",
      " - 130s - loss: 6.9189 - acc: 0.0419\n",
      "Epoch 123/1200\n",
      " - 130s - loss: 6.9187 - acc: 0.0419\n",
      "Epoch 124/1200\n",
      " - 130s - loss: 6.9187 - acc: 0.0419\n",
      "Epoch 125/1200\n",
      " - 130s - loss: 6.9186 - acc: 0.0419\n",
      "Epoch 126/1200\n",
      " - 130s - loss: 6.9186 - acc: 0.0419\n",
      "Epoch 127/1200\n",
      " - 130s - loss: 6.9184 - acc: 0.0419\n",
      "Epoch 128/1200\n",
      " - 130s - loss: 6.9186 - acc: 0.0419\n",
      "Epoch 129/1200\n",
      " - 130s - loss: 6.9186 - acc: 0.0419\n",
      "Epoch 130/1200\n",
      " - 130s - loss: 6.9188 - acc: 0.0419\n",
      "Epoch 131/1200\n",
      " - 130s - loss: 6.9186 - acc: 0.0419\n",
      "Epoch 132/1200\n",
      " - 130s - loss: 6.9185 - acc: 0.0419\n",
      "Epoch 133/1200\n",
      " - 130s - loss: 6.9184 - acc: 0.0419\n",
      "Epoch 134/1200\n",
      " - 130s - loss: 6.9183 - acc: 0.0419\n",
      "Epoch 135/1200\n",
      " - 131s - loss: 6.9182 - acc: 0.0419\n",
      "Epoch 136/1200\n",
      " - 130s - loss: 6.9186 - acc: 0.0419\n",
      "Epoch 137/1200\n",
      " - 131s - loss: 6.9183 - acc: 0.0419\n",
      "Epoch 138/1200\n",
      " - 130s - loss: 6.9185 - acc: 0.0419\n",
      "Epoch 139/1200\n",
      " - 130s - loss: 6.9185 - acc: 0.0419\n",
      "Epoch 140/1200\n",
      " - 130s - loss: 6.9187 - acc: 0.0419\n",
      "Epoch 141/1200\n",
      " - 130s - loss: 6.9184 - acc: 0.0419\n",
      "Epoch 142/1200\n",
      " - 130s - loss: 6.9187 - acc: 0.0419\n",
      "Epoch 143/1200\n",
      " - 130s - loss: 6.9184 - acc: 0.0419\n",
      "Epoch 144/1200\n",
      " - 130s - loss: 6.9183 - acc: 0.0419\n",
      "Epoch 145/1200\n",
      " - 130s - loss: 6.9184 - acc: 0.0419\n",
      "Epoch 146/1200\n",
      " - 130s - loss: 6.9183 - acc: 0.0419\n",
      "Epoch 147/1200\n",
      " - 130s - loss: 6.9181 - acc: 0.0419\n",
      "Epoch 148/1200\n",
      " - 130s - loss: 6.9185 - acc: 0.0419\n",
      "Epoch 149/1200\n",
      " - 130s - loss: 6.9181 - acc: 0.0419\n",
      "Epoch 150/1200\n",
      " - 130s - loss: 6.9182 - acc: 0.0419\n",
      "Epoch 151/1200\n",
      " - 130s - loss: 6.9182 - acc: 0.0419\n",
      "Epoch 152/1200\n",
      " - 130s - loss: 6.9184 - acc: 0.0419\n",
      "Epoch 153/1200\n",
      " - 130s - loss: 6.9188 - acc: 0.0419\n",
      "Epoch 154/1200\n",
      " - 130s - loss: 6.9181 - acc: 0.0419\n",
      "Epoch 155/1200\n",
      " - 130s - loss: 6.9179 - acc: 0.0419\n",
      "Epoch 156/1200\n",
      " - 131s - loss: 6.9181 - acc: 0.0419\n",
      "Epoch 157/1200\n",
      " - 130s - loss: 6.9182 - acc: 0.0419\n",
      "Epoch 158/1200\n",
      " - 130s - loss: 6.9180 - acc: 0.0419\n",
      "Epoch 159/1200\n",
      " - 130s - loss: 6.9180 - acc: 0.0419\n",
      "Epoch 160/1200\n",
      " - 131s - loss: 6.9184 - acc: 0.0419\n"
     ]
    },
    {
     "name": "stdout",
     "output_type": "stream",
     "text": [
      "Epoch 161/1200\n",
      " - 130s - loss: 6.9188 - acc: 0.0419\n",
      "Epoch 162/1200\n",
      " - 130s - loss: 6.9182 - acc: 0.0419\n",
      "Epoch 163/1200\n",
      " - 130s - loss: 6.9180 - acc: 0.0419\n",
      "Epoch 164/1200\n",
      " - 130s - loss: 6.9181 - acc: 0.0419\n",
      "Epoch 165/1200\n",
      " - 131s - loss: 6.9179 - acc: 0.0419\n",
      "Epoch 166/1200\n",
      " - 131s - loss: 6.9179 - acc: 0.0419\n",
      "Epoch 167/1200\n",
      " - 130s - loss: 6.9180 - acc: 0.0419\n",
      "Epoch 168/1200\n",
      " - 130s - loss: 6.9183 - acc: 0.0419\n",
      "Epoch 169/1200\n",
      " - 129s - loss: 6.9180 - acc: 0.0419\n",
      "Epoch 170/1200\n",
      " - 130s - loss: 6.9179 - acc: 0.0419\n",
      "Epoch 171/1200\n",
      " - 130s - loss: 6.9184 - acc: 0.0419\n",
      "Epoch 172/1200\n",
      " - 130s - loss: 6.9177 - acc: 0.0419\n",
      "Epoch 173/1200\n",
      " - 130s - loss: 6.9179 - acc: 0.0419\n",
      "Epoch 174/1200\n",
      " - 130s - loss: 6.9178 - acc: 0.0419\n",
      "Epoch 175/1200\n",
      " - 130s - loss: 6.9179 - acc: 0.0419\n",
      "Epoch 176/1200\n",
      " - 130s - loss: 6.9178 - acc: 0.0419\n",
      "Epoch 177/1200\n",
      " - 130s - loss: 6.9180 - acc: 0.0419\n",
      "Epoch 178/1200\n",
      " - 130s - loss: 6.9179 - acc: 0.0419\n",
      "Epoch 179/1200\n",
      " - 130s - loss: 6.9178 - acc: 0.0419\n",
      "Epoch 180/1200\n",
      " - 129s - loss: 6.9183 - acc: 0.0419\n",
      "Epoch 181/1200\n",
      " - 130s - loss: 6.9176 - acc: 0.0419\n",
      "Epoch 182/1200\n",
      " - 130s - loss: 6.9179 - acc: 0.0419\n",
      "Epoch 183/1200\n",
      " - 130s - loss: 6.9177 - acc: 0.0419\n",
      "Epoch 184/1200\n",
      " - 130s - loss: 6.9177 - acc: 0.0419\n",
      "Epoch 185/1200\n",
      " - 130s - loss: 6.9177 - acc: 0.0419\n",
      "Epoch 186/1200\n",
      " - 130s - loss: 6.9177 - acc: 0.0419\n",
      "Epoch 187/1200\n",
      " - 130s - loss: 6.9178 - acc: 0.0419\n",
      "Epoch 188/1200\n",
      " - 130s - loss: 6.9175 - acc: 0.0419\n",
      "Epoch 189/1200\n",
      " - 130s - loss: 6.9178 - acc: 0.0419\n",
      "Epoch 190/1200\n",
      " - 131s - loss: 6.9175 - acc: 0.0419\n",
      "Epoch 191/1200\n",
      " - 130s - loss: 6.9176 - acc: 0.0419\n",
      "Epoch 192/1200\n",
      " - 131s - loss: 6.9174 - acc: 0.0419\n",
      "Epoch 193/1200\n",
      " - 130s - loss: 6.9178 - acc: 0.0419\n",
      "Epoch 194/1200\n",
      " - 130s - loss: 6.9179 - acc: 0.0419\n",
      "Epoch 195/1200\n",
      " - 130s - loss: 6.9179 - acc: 0.0419\n",
      "Epoch 196/1200\n",
      " - 130s - loss: 6.9180 - acc: 0.0419\n",
      "Epoch 197/1200\n",
      " - 131s - loss: 6.9176 - acc: 0.0419\n",
      "Epoch 198/1200\n",
      " - 130s - loss: 6.9175 - acc: 0.0419\n",
      "Epoch 199/1200\n",
      " - 130s - loss: 6.9176 - acc: 0.0419\n",
      "Epoch 200/1200\n",
      " - 130s - loss: 6.9176 - acc: 0.0419\n",
      "Epoch 201/1200\n",
      " - 130s - loss: 6.9174 - acc: 0.0419\n",
      "Epoch 202/1200\n",
      " - 129s - loss: 6.9174 - acc: 0.0419\n",
      "Epoch 203/1200\n",
      " - 129s - loss: 6.9174 - acc: 0.0419\n",
      "Epoch 204/1200\n",
      " - 130s - loss: 6.9177 - acc: 0.0419\n",
      "Epoch 205/1200\n",
      " - 130s - loss: 6.9175 - acc: 0.0419\n",
      "Epoch 206/1200\n",
      " - 7723s - loss: 6.9172 - acc: 0.0419\n",
      "Epoch 207/1200\n",
      " - 137s - loss: 6.9173 - acc: 0.0419\n",
      "Epoch 208/1200\n",
      " - 138s - loss: 6.9175 - acc: 0.0419\n",
      "Epoch 209/1200\n",
      " - 139s - loss: 6.9174 - acc: 0.0419\n",
      "Epoch 210/1200\n",
      " - 133s - loss: 6.9173 - acc: 0.0419\n",
      "Epoch 211/1200\n",
      " - 131s - loss: 6.9172 - acc: 0.0419\n",
      "Epoch 212/1200\n",
      " - 131s - loss: 6.9172 - acc: 0.0419\n",
      "Epoch 213/1200\n",
      " - 130s - loss: 6.9172 - acc: 0.0419\n",
      "Epoch 214/1200\n",
      " - 130s - loss: 6.9171 - acc: 0.0419\n",
      "Epoch 215/1200\n",
      " - 131s - loss: 6.9173 - acc: 0.0419\n",
      "Epoch 216/1200\n",
      " - 130s - loss: 6.9175 - acc: 0.0419\n",
      "Epoch 217/1200\n",
      " - 130s - loss: 6.9172 - acc: 0.0419\n",
      "Epoch 218/1200\n",
      " - 130s - loss: 6.9173 - acc: 0.0419\n",
      "Epoch 219/1200\n",
      " - 130s - loss: 6.9170 - acc: 0.0419\n",
      "Epoch 220/1200\n",
      " - 129s - loss: 6.9174 - acc: 0.0419\n",
      "Epoch 221/1200\n",
      " - 129s - loss: 6.9173 - acc: 0.0419\n",
      "Epoch 222/1200\n",
      " - 130s - loss: 6.9171 - acc: 0.0419\n",
      "Epoch 223/1200\n",
      " - 130s - loss: 6.9173 - acc: 0.0419\n",
      "Epoch 224/1200\n",
      " - 130s - loss: 6.9169 - acc: 0.0419\n",
      "Epoch 225/1200\n",
      " - 130s - loss: 6.9174 - acc: 0.0419\n",
      "Epoch 226/1200\n",
      " - 130s - loss: 6.9173 - acc: 0.0419\n",
      "Epoch 227/1200\n",
      " - 129s - loss: 6.9169 - acc: 0.0419\n",
      "Epoch 228/1200\n",
      " - 130s - loss: 6.9173 - acc: 0.0419\n",
      "Epoch 229/1200\n",
      " - 130s - loss: 6.9171 - acc: 0.0419\n",
      "Epoch 230/1200\n",
      " - 130s - loss: 6.9171 - acc: 0.0419\n",
      "Epoch 231/1200\n",
      " - 129s - loss: 6.9172 - acc: 0.0419\n",
      "Epoch 232/1200\n",
      " - 130s - loss: 6.9175 - acc: 0.0419\n",
      "Epoch 233/1200\n",
      " - 130s - loss: 6.9170 - acc: 0.0419\n",
      "Epoch 234/1200\n",
      " - 130s - loss: 6.9170 - acc: 0.0419\n",
      "Epoch 235/1200\n",
      " - 130s - loss: 6.9170 - acc: 0.0419\n",
      "Epoch 236/1200\n",
      " - 130s - loss: 6.9170 - acc: 0.0419\n",
      "Epoch 237/1200\n",
      " - 130s - loss: 6.9170 - acc: 0.0419\n",
      "Epoch 238/1200\n",
      " - 130s - loss: 6.9170 - acc: 0.0419\n",
      "Epoch 239/1200\n",
      " - 130s - loss: 6.9171 - acc: 0.0419\n",
      "Epoch 240/1200\n",
      " - 130s - loss: 6.9170 - acc: 0.0419\n",
      "Epoch 241/1200\n",
      " - 130s - loss: 6.9171 - acc: 0.0419\n",
      "Epoch 242/1200\n",
      " - 129s - loss: 6.9170 - acc: 0.0419\n",
      "Epoch 243/1200\n",
      " - 130s - loss: 6.9171 - acc: 0.0419\n",
      "Epoch 244/1200\n",
      " - 130s - loss: 6.9170 - acc: 0.0419\n",
      "Epoch 245/1200\n",
      " - 130s - loss: 6.9171 - acc: 0.0419\n",
      "Epoch 246/1200\n",
      " - 129s - loss: 6.9168 - acc: 0.0419\n",
      "Epoch 247/1200\n",
      " - 130s - loss: 6.9169 - acc: 0.0419\n",
      "Epoch 248/1200\n",
      " - 130s - loss: 6.9172 - acc: 0.0419\n",
      "Epoch 249/1200\n",
      " - 130s - loss: 6.9168 - acc: 0.0419\n",
      "Epoch 250/1200\n",
      " - 130s - loss: 6.9169 - acc: 0.0419\n",
      "Epoch 251/1200\n",
      " - 129s - loss: 6.9168 - acc: 0.0419\n",
      "Epoch 252/1200\n",
      " - 130s - loss: 6.9169 - acc: 0.0419\n",
      "Epoch 253/1200\n",
      " - 130s - loss: 6.9174 - acc: 0.0419\n",
      "Epoch 254/1200\n",
      " - 130s - loss: 6.9169 - acc: 0.0419\n",
      "Epoch 255/1200\n",
      " - 130s - loss: 6.9172 - acc: 0.0419\n",
      "Epoch 256/1200\n",
      " - 130s - loss: 6.9169 - acc: 0.0419\n",
      "Epoch 257/1200\n",
      " - 130s - loss: 6.9169 - acc: 0.0419\n",
      "Epoch 258/1200\n",
      " - 130s - loss: 6.9169 - acc: 0.0419\n",
      "Epoch 259/1200\n",
      " - 130s - loss: 6.9169 - acc: 0.0419\n",
      "Epoch 260/1200\n",
      " - 130s - loss: 6.9170 - acc: 0.0419\n",
      "Epoch 261/1200\n",
      " - 130s - loss: 6.9168 - acc: 0.0419\n",
      "Epoch 262/1200\n",
      " - 130s - loss: 6.9169 - acc: 0.0419\n",
      "Epoch 263/1200\n",
      " - 130s - loss: 6.9167 - acc: 0.0419\n",
      "Epoch 264/1200\n",
      " - 130s - loss: 6.9167 - acc: 0.0419\n",
      "Epoch 265/1200\n",
      " - 129s - loss: 6.9168 - acc: 0.0419\n",
      "Epoch 266/1200\n",
      " - 130s - loss: 6.9168 - acc: 0.0419\n",
      "Epoch 267/1200\n",
      " - 130s - loss: 6.9168 - acc: 0.0419\n",
      "Epoch 268/1200\n",
      " - 130s - loss: 6.9170 - acc: 0.0419\n",
      "Epoch 269/1200\n",
      " - 129s - loss: 6.9170 - acc: 0.0419\n",
      "Epoch 270/1200\n",
      " - 130s - loss: 6.9166 - acc: 0.0419\n",
      "Epoch 271/1200\n",
      " - 130s - loss: 6.9168 - acc: 0.0419\n",
      "Epoch 272/1200\n",
      " - 129s - loss: 6.9167 - acc: 0.0419\n",
      "Epoch 273/1200\n",
      " - 130s - loss: 6.9168 - acc: 0.0419\n",
      "Epoch 274/1200\n",
      " - 129s - loss: 6.9168 - acc: 0.0419\n",
      "Epoch 275/1200\n",
      " - 130s - loss: 6.9169 - acc: 0.0419\n",
      "Epoch 276/1200\n",
      " - 130s - loss: 6.9167 - acc: 0.0419\n",
      "Epoch 277/1200\n",
      " - 129s - loss: 6.9165 - acc: 0.0419\n",
      "Epoch 278/1200\n",
      " - 129s - loss: 6.9167 - acc: 0.0419\n",
      "Epoch 279/1200\n",
      " - 129s - loss: 6.9167 - acc: 0.0419\n",
      "Epoch 280/1200\n",
      " - 130s - loss: 6.9168 - acc: 0.0419\n",
      "Epoch 281/1200\n",
      " - 130s - loss: 6.9170 - acc: 0.0419\n",
      "Epoch 282/1200\n",
      " - 130s - loss: 6.9166 - acc: 0.0419\n",
      "Epoch 283/1200\n",
      " - 129s - loss: 6.9164 - acc: 0.0419\n",
      "Epoch 284/1200\n",
      " - 130s - loss: 6.9166 - acc: 0.0419\n",
      "Epoch 285/1200\n",
      " - 130s - loss: 6.9168 - acc: 0.0419\n",
      "Epoch 286/1200\n",
      " - 130s - loss: 6.9166 - acc: 0.0419\n",
      "Epoch 287/1200\n",
      " - 130s - loss: 6.9165 - acc: 0.0419\n",
      "Epoch 288/1200\n",
      " - 130s - loss: 6.9166 - acc: 0.0419\n",
      "Epoch 289/1200\n",
      " - 130s - loss: 6.9165 - acc: 0.0419\n",
      "Epoch 290/1200\n",
      " - 130s - loss: 6.9166 - acc: 0.0419\n",
      "Epoch 291/1200\n",
      " - 130s - loss: 6.9168 - acc: 0.0419\n",
      "Epoch 292/1200\n",
      " - 130s - loss: 6.9165 - acc: 0.0419\n",
      "Epoch 293/1200\n",
      " - 130s - loss: 6.9165 - acc: 0.0419\n",
      "Epoch 294/1200\n",
      " - 130s - loss: 6.9166 - acc: 0.0419\n",
      "Epoch 295/1200\n",
      " - 130s - loss: 6.9166 - acc: 0.0419\n",
      "Epoch 296/1200\n",
      " - 130s - loss: 6.9166 - acc: 0.0419\n",
      "Epoch 297/1200\n",
      " - 129s - loss: 6.9167 - acc: 0.0419\n",
      "Epoch 298/1200\n"
     ]
    }
   ],
   "source": [
    "# Fit the model \n",
    "# Default batch size is too small-- takes weeks to train. With \n",
    "# GPU support and increased batch size, training time should\n",
    "# decrease by a factor of 100 or more! \n",
    "\n",
    "model.fit(X, y, batch_size=1024, epochs=1200,verbose=2)"
   ]
  },
  {
   "cell_type": "code",
   "execution_count": null,
   "metadata": {
    "colab": {},
    "colab_type": "code",
    "id": "3JSNgyTAfk6G"
   },
   "outputs": [],
   "source": [
    "# Save the model for later\n",
    "from pickle import dump,load\n",
    "\n",
    "model.save('trained_model.h5')\n",
    "dump(tokenizer, open('trained_model', 'wb'))"
   ]
  },
  {
   "cell_type": "code",
   "execution_count": null,
   "metadata": {
    "colab": {},
    "colab_type": "code",
    "id": "VgUkYAhafk6L"
   },
   "outputs": [],
   "source": [
    "# Now that we have our model trained, we'd like to start making predictive text.\n",
    "\n",
    "from pickle import load\n",
    "from keras.models import load_model\n",
    "from keras.preprocessing.sequence import pad_sequences"
   ]
  },
  {
   "cell_type": "code",
   "execution_count": null,
   "metadata": {
    "colab": {},
    "colab_type": "code",
    "id": "x7VY79SRfk6O"
   },
   "outputs": [],
   "source": [
    "def generate_text(model, tokenizer, seq_len, seed_text, num_gen_words):\n",
    "    '''\n",
    "    INPUTS:\n",
    "    model : model that was trained on text data\n",
    "    tokenizer : tokenizer that was fit on text data\n",
    "    seq_len : length of training sequence\n",
    "    seed_text : raw string text to serve as the seed\n",
    "    num_gen_words : number of words to be generated by model\n",
    "    '''\n",
    "    \n",
    "    # Final Output\n",
    "    output_text = []\n",
    "    \n",
    "    # Intial Seed Sequence\n",
    "    input_text = seed_text\n",
    "    \n",
    "    # Create num_gen_words\n",
    "    for i in range(num_gen_words):\n",
    "        \n",
    "        # Take the input text string and encode it to a sequence\n",
    "        encoded_text = tokenizer.texts_to_sequences([input_text])[0]\n",
    "        \n",
    "        # Pad sequences to our trained rate (50 words in the video)\n",
    "        pad_encoded = pad_sequences([encoded_text], maxlen=seq_len, truncating='pre')\n",
    "        \n",
    "        # Predict Class Probabilities for each word\n",
    "        pred_word_ind = model.predict_classes(pad_encoded, verbose=0)[0]\n",
    "        \n",
    "        # Grab word\n",
    "        pred_word = tokenizer.index_word[pred_word_ind] \n",
    "        \n",
    "        # Update the sequence of input text (shifting one over with the new word)\n",
    "        input_text += ' ' + pred_word\n",
    "        \n",
    "        output_text.append(pred_word)\n",
    "        \n",
    "    # Make it look like a sentence.\n",
    "    return ' '.join(output_text)"
   ]
  },
  {
   "cell_type": "code",
   "execution_count": null,
   "metadata": {
    "colab": {},
    "colab_type": "code",
    "id": "JY-GDqU_fk6Q"
   },
   "outputs": [],
   "source": [
    "model=load_model('trained_model.h5')\n",
    "tokenizer=load(open('trained_model','rb'))\n",
    "generate_text(model,tokenizer,seq_len,seed_text=seed_text,num_gen_words=50)"
   ]
  },
  {
   "cell_type": "code",
   "execution_count": null,
   "metadata": {
    "colab": {},
    "colab_type": "code",
    "id": "whQvUEwdfk6R"
   },
   "outputs": [],
   "source": [
    "from tensorflow.python.client import device_lib"
   ]
  },
  {
   "cell_type": "code",
   "execution_count": null,
   "metadata": {},
   "outputs": [],
   "source": [
    "print(device_lib.list_local_devices())"
   ]
  },
  {
   "cell_type": "code",
   "execution_count": null,
   "metadata": {},
   "outputs": [],
   "source": [
    "from keras import backend as K\n",
    "K.tensorflow_backend._get_available_gpus()"
   ]
  },
  {
   "cell_type": "code",
   "execution_count": null,
   "metadata": {},
   "outputs": [],
   "source": []
  }
 ],
 "metadata": {
  "colab": {
   "name": "Trump Bot.ipynb",
   "provenance": [],
   "version": "0.3.2"
  },
  "kernelspec": {
   "display_name": "Python 3",
   "language": "python",
   "name": "python3"
  },
  "language_info": {
   "codemirror_mode": {
    "name": "ipython",
    "version": 3
   },
   "file_extension": ".py",
   "mimetype": "text/x-python",
   "name": "python",
   "nbconvert_exporter": "python",
   "pygments_lexer": "ipython3",
   "version": "3.7.3"
  }
 },
 "nbformat": 4,
 "nbformat_minor": 1
}
